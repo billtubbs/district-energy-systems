{
 "cells": [
  {
   "cell_type": "markdown",
   "id": "751fee18-dec0-4f17-bcec-cdf9e3258d43",
   "metadata": {},
   "source": [
    "# Analysis of Operating Data on CSUDH Chillers"
   ]
  },
  {
   "cell_type": "code",
   "execution_count": 1,
   "id": "f49f9eec-a2d7-4028-ab75-e5b437541577",
   "metadata": {},
   "outputs": [],
   "source": [
    "import os\n",
    "import yaml\n",
    "import numpy as np\n",
    "import pandas as pd\n",
    "import matplotlib.pyplot as plt"
   ]
  },
  {
   "cell_type": "code",
   "execution_count": 2,
   "id": "7062606d-624e-4744-924f-02f52d343771",
   "metadata": {},
   "outputs": [
    {
     "data": {
      "text/plain": [
       "['HistorianCompare.csv', 'prepared-data-hourly.csv', 'HistorianCompare.pdf']"
      ]
     },
     "execution_count": 2,
     "metadata": {},
     "output_type": "execute_result"
    }
   ],
   "source": [
    "data_dir = \"data\"\n",
    "os.listdir(data_dir)"
   ]
  },
  {
   "cell_type": "markdown",
   "id": "169814da-4edd-4f5c-beb8-74508558b1d4",
   "metadata": {},
   "source": [
    "## Load CSV file"
   ]
  },
  {
   "cell_type": "code",
   "execution_count": 3,
   "id": "a93df69c-bffe-4473-b799-2b6c5ab93936",
   "metadata": {},
   "outputs": [
    {
     "name": "stdout",
     "output_type": "stream",
     "text": [
      "<class 'pandas.core.frame.DataFrame'>\n",
      "RangeIndex: 8784 entries, 0 to 8783\n",
      "Data columns (total 19 columns):\n",
      " #   Column                                                           Non-Null Count  Dtype \n",
      "---  ------                                                           --------------  ----- \n",
      " 0   Timestamp                                                        8784 non-null   object\n",
      " 1   Central Plant Chiller 1 Chiller Efficiency (kW/ton) (1)2024      6620 non-null   object\n",
      " 2   Central Plant Chiller 1 Chiller Efficiency (kW/ton) (2)2022      8735 non-null   object\n",
      " 3   Central Plant Chiller 2 Chiller Efficiency (kW/ton) (1)          6620 non-null   object\n",
      " 4   Central Plant Chiller 2 Chiller Efficiency (kW/ton) (2)          8735 non-null   object\n",
      " 5   Central Plant Chiller 3 Chiller Efficiency (kW/ton) (1)          6620 non-null   object\n",
      " 6   Central Plant Chiller 3 Chiller Efficiency (kW/ton) (2)          8735 non-null   object\n",
      " 7   Central Plant CHW Plant Chilled Water Efficiency (C) (1)         6620 non-null   object\n",
      " 8   Central Plant CHW Plant Chilled Water Efficiency (C) (2)         8735 non-null   object\n",
      " 9   Central Plant CHW Plant Chilled Water Tons of Refrigeration (1)  6620 non-null   object\n",
      " 10  Central Plant CHW Plant Chilled Water Tons of Refrigeration (2)  8735 non-null   object\n",
      " 11  Central Plant CHW Plant Chiller Stage (1)                        6713 non-null   object\n",
      " 12  Central Plant CHW Plant Chiller Stage (2)                        8759 non-null   object\n",
      " 13  Central Plant CHW Plant Outside Air Temp (1)                     6620 non-null   object\n",
      " 14  Central Plant CHW Plant Outside Air Temp (2)                     8735 non-null   object\n",
      " 15  Central Plant CHW Plant Total Power (1)                          6620 non-null   object\n",
      " 16  Central Plant CHW Plant Total Power (2)                          8735 non-null   object\n",
      " 17  Central Plant Condenser Loop Wet Bulb Temp (1)                   6620 non-null   object\n",
      " 18  Central Plant Condenser Loop Wet Bulb Temp (2)                   8709 non-null   object\n",
      "dtypes: object(19)\n",
      "memory usage: 1.3+ MB\n"
     ]
    }
   ],
   "source": [
    "filename = 'HistorianCompare.csv'\n",
    "df = pd.read_csv(os.path.join(data_dir, filename))\n",
    "df.info()"
   ]
  },
  {
   "cell_type": "code",
   "execution_count": 4,
   "id": "25d47244-a612-4cd1-83da-b9121c896e5b",
   "metadata": {},
   "outputs": [],
   "source": [
    "# This is used later\n",
    "units = {}"
   ]
  },
  {
   "cell_type": "markdown",
   "id": "b774290f-2382-4658-9214-09073f780235",
   "metadata": {},
   "source": [
    "## Strip placename and convert timestamps to datetimes"
   ]
  },
  {
   "cell_type": "code",
   "execution_count": 5,
   "id": "1e414ce1-1c3e-4779-8e21-47aba07f3696",
   "metadata": {},
   "outputs": [
    {
     "data": {
      "text/plain": [
       "Timestamp('2024-01-01 00:00:00-0800', tz='UTC-08:00')"
      ]
     },
     "execution_count": 5,
     "metadata": {},
     "output_type": "execute_result"
    }
   ],
   "source": [
    "# Example\n",
    "pd.to_datetime('2024-01-01T00:00:00-08:00 Los_Angeles'.removesuffix(' Los_Angeles'))"
   ]
  },
  {
   "cell_type": "code",
   "execution_count": 6,
   "id": "e1734837-1b3e-433b-8842-f70eba4932b0",
   "metadata": {},
   "outputs": [
    {
     "data": {
      "text/plain": [
       "1655    2024-03-09T23:00:00-08:00 Los_Angeles\n",
       "1656    2024-03-10T00:00:00-08:00 Los_Angeles\n",
       "1657    2024-03-10T02:00:00-07:00 Los_Angeles\n",
       "1658    2024-03-10T01:00:00-08:00 Los_Angeles\n",
       "1659    2024-03-10T03:00:00-07:00 Los_Angeles\n",
       "1660    2024-03-10T04:00:00-07:00 Los_Angeles\n",
       "1661    2024-03-10T05:00:00-07:00 Los_Angeles\n",
       "1662    2024-03-10T06:00:00-07:00 Los_Angeles\n",
       "1663    2024-03-10T07:00:00-07:00 Los_Angeles\n",
       "1664    2024-03-10T08:00:00-07:00 Los_Angeles\n",
       "Name: Timestamp, dtype: object"
      ]
     },
     "execution_count": 6,
     "metadata": {},
     "output_type": "execute_result"
    }
   ],
   "source": [
    "# Data has changing timezones and duplicates - example:\n",
    "df['Timestamp'].iloc[1655:1665]"
   ]
  },
  {
   "cell_type": "code",
   "execution_count": 7,
   "id": "7e8a1606-7465-4d61-a4d7-3606a299a4b2",
   "metadata": {},
   "outputs": [
    {
     "data": {
      "text/html": [
       "<div>\n",
       "<style scoped>\n",
       "    .dataframe tbody tr th:only-of-type {\n",
       "        vertical-align: middle;\n",
       "    }\n",
       "\n",
       "    .dataframe tbody tr th {\n",
       "        vertical-align: top;\n",
       "    }\n",
       "\n",
       "    .dataframe thead th {\n",
       "        text-align: right;\n",
       "    }\n",
       "</style>\n",
       "<table border=\"1\" class=\"dataframe\">\n",
       "  <thead>\n",
       "    <tr style=\"text-align: right;\">\n",
       "      <th></th>\n",
       "      <th>Central Plant Chiller 1 Chiller Efficiency (kW/ton) (1)2024</th>\n",
       "      <th>Central Plant Chiller 1 Chiller Efficiency (kW/ton) (2)2022</th>\n",
       "    </tr>\n",
       "    <tr>\n",
       "      <th>Timestamp</th>\n",
       "      <th></th>\n",
       "      <th></th>\n",
       "    </tr>\n",
       "  </thead>\n",
       "  <tbody>\n",
       "    <tr>\n",
       "      <th>2024-01-01 00:00:00-08:00</th>\n",
       "      <td>0_kW/Ton</td>\n",
       "      <td>1.3596493403116863_kW/Ton</td>\n",
       "    </tr>\n",
       "    <tr>\n",
       "      <th>2024-01-01 01:00:00-08:00</th>\n",
       "      <td>0_kW/Ton</td>\n",
       "      <td>1.1398620903491974_kW/Ton</td>\n",
       "    </tr>\n",
       "    <tr>\n",
       "      <th>2024-01-01 02:00:00-08:00</th>\n",
       "      <td>0_kW/Ton</td>\n",
       "      <td>1.15005957086881_kW/Ton</td>\n",
       "    </tr>\n",
       "    <tr>\n",
       "      <th>2024-01-01 03:00:00-08:00</th>\n",
       "      <td>0_kW/Ton</td>\n",
       "      <td>1.1817961434523265_kW/Ton</td>\n",
       "    </tr>\n",
       "    <tr>\n",
       "      <th>2024-01-01 04:00:00-08:00</th>\n",
       "      <td>0_kW/Ton</td>\n",
       "      <td>0.8587031761805216_kW/Ton</td>\n",
       "    </tr>\n",
       "  </tbody>\n",
       "</table>\n",
       "</div>"
      ],
      "text/plain": [
       "                          Central Plant Chiller 1 Chiller Efficiency (kW/ton) (1)2024  \\\n",
       "Timestamp                                                                               \n",
       "2024-01-01 00:00:00-08:00                                           0_kW/Ton            \n",
       "2024-01-01 01:00:00-08:00                                           0_kW/Ton            \n",
       "2024-01-01 02:00:00-08:00                                           0_kW/Ton            \n",
       "2024-01-01 03:00:00-08:00                                           0_kW/Ton            \n",
       "2024-01-01 04:00:00-08:00                                           0_kW/Ton            \n",
       "\n",
       "                          Central Plant Chiller 1 Chiller Efficiency (kW/ton) (2)2022  \n",
       "Timestamp                                                                              \n",
       "2024-01-01 00:00:00-08:00                          1.3596493403116863_kW/Ton           \n",
       "2024-01-01 01:00:00-08:00                          1.1398620903491974_kW/Ton           \n",
       "2024-01-01 02:00:00-08:00                            1.15005957086881_kW/Ton           \n",
       "2024-01-01 03:00:00-08:00                          1.1817961434523265_kW/Ton           \n",
       "2024-01-01 04:00:00-08:00                          0.8587031761805216_kW/Ton           "
      ]
     },
     "execution_count": 7,
     "metadata": {},
     "output_type": "execute_result"
    }
   ],
   "source": [
    "if not df.index.name == 'Timestamp':\n",
    "    time_stamps = pd.to_datetime(df['Timestamp'].str.removesuffix(' Los_Angeles'), utc=True)\n",
    "    df['Timestamp'] = time_stamps\n",
    "    df = df.set_index('Timestamp', drop=True).sort_index().drop_duplicates().tz_convert('America/Los_Angeles')\n",
    "df.iloc[:5, 0:2]"
   ]
  },
  {
   "cell_type": "markdown",
   "id": "169aba15-b898-4e00-a50b-20ead92b7c34",
   "metadata": {},
   "source": [
    "## Simplify column names"
   ]
  },
  {
   "cell_type": "code",
   "execution_count": 8,
   "id": "304a7661-02df-45d6-8134-126aa52282a4",
   "metadata": {},
   "outputs": [
    {
     "data": {
      "text/plain": [
       "Index(['Chiller 1 Chiller Efficiency (kW/ton) (1)2024',\n",
       "       'Chiller 1 Chiller Efficiency (kW/ton) (2)2022',\n",
       "       'Chiller 2 Chiller Efficiency (kW/ton) (1)',\n",
       "       'Chiller 2 Chiller Efficiency (kW/ton) (2)',\n",
       "       'Chiller 3 Chiller Efficiency (kW/ton) (1)',\n",
       "       'Chiller 3 Chiller Efficiency (kW/ton) (2)',\n",
       "       'Chilled Water Efficiency (C) (1)', 'Chilled Water Efficiency (C) (2)',\n",
       "       'Chilled Water Tons of Refrigeration (1)',\n",
       "       'Chilled Water Tons of Refrigeration (2)', 'Chiller Stage (1)',\n",
       "       'Chiller Stage (2)', 'Outside Air Temp (1)', 'Outside Air Temp (2)',\n",
       "       'Total Power (1)', 'Total Power (2)',\n",
       "       'Condenser Loop Wet Bulb Temp (1)', 'Condenser Loop Wet Bulb Temp (2)'],\n",
       "      dtype='object')"
      ]
     },
     "execution_count": 8,
     "metadata": {},
     "output_type": "execute_result"
    }
   ],
   "source": [
    "if df.columns[0].startswith(\"Central Plant \"):\n",
    "    df.columns = [col.removeprefix(\"Central Plant \") for col in df]\n",
    "if df.columns[6].startswith(\"CHW Plant \"):\n",
    "    df.columns = [col.removeprefix(\"CHW Plant \") for col in df]\n",
    "df.columns"
   ]
  },
  {
   "cell_type": "code",
   "execution_count": 9,
   "id": "1d7bdd6c-491c-4b20-9525-62cefd497da8",
   "metadata": {},
   "outputs": [
    {
     "data": {
      "text/plain": [
       "Index(['Chiller 1 Efficiency 2024', 'Chiller 1 Efficiency 2022',\n",
       "       'Chiller 2 Efficiency 2024', 'Chiller 2 Efficiency 2022',\n",
       "       'Chiller 3 Efficiency 2024', 'Chiller 3 Efficiency 2022',\n",
       "       'Chilled Water Efficiency (C) 2024',\n",
       "       'Chilled Water Efficiency (C) 2022',\n",
       "       'Chilled Water Tons of Refrigeration 2024',\n",
       "       'Chilled Water Tons of Refrigeration 2022', 'Chiller Stage 2024',\n",
       "       'Chiller Stage 2022', 'Outside Air Temp 2024', 'Outside Air Temp 2022',\n",
       "       'Total Power 2024', 'Total Power 2022',\n",
       "       'Condenser Loop Wet Bulb Temp 2024',\n",
       "       'Condenser Loop Wet Bulb Temp 2022'],\n",
       "      dtype='object')"
      ]
     },
     "execution_count": 9,
     "metadata": {},
     "output_type": "execute_result"
    }
   ],
   "source": [
    "# All other modifications to names\n",
    "col_rename_map = {\n",
    "    'Chiller 1 Chiller Efficiency (kW/ton) (1)2024': 'Chiller 1 Efficiency 2024',\n",
    "    'Chiller 1 Chiller Efficiency (kW/ton) (2)2022': 'Chiller 1 Efficiency 2022',\n",
    "    'Chiller 2 Chiller Efficiency (kW/ton) (1)': 'Chiller 2 Efficiency 2024',\n",
    "    'Chiller 2 Chiller Efficiency (kW/ton) (2)': 'Chiller 2 Efficiency 2022',\n",
    "    'Chiller 3 Chiller Efficiency (kW/ton) (1)': 'Chiller 3 Efficiency 2024',\n",
    "    'Chiller 3 Chiller Efficiency (kW/ton) (2)': 'Chiller 3 Efficiency 2022',\n",
    "    'Chilled Water Efficiency (C) (1)': 'Chilled Water Efficiency (C) 2024',\n",
    "    'Chilled Water Efficiency (C) (2)': 'Chilled Water Efficiency (C) 2022',\n",
    "    'Chilled Water Tons of Refrigeration (1)': 'Chilled Water Tons of Refrigeration 2024',\n",
    "    'Chilled Water Tons of Refrigeration (2)': 'Chilled Water Tons of Refrigeration 2022',\n",
    "    'Chiller Stage (1)': 'Chiller Stage 2024',\n",
    "    'Chiller Stage (2)': 'Chiller Stage 2022',\n",
    "    'Outside Air Temp (1)': 'Outside Air Temp 2024',\n",
    "    'Outside Air Temp (2)': 'Outside Air Temp 2022',\n",
    "    'Total Power (1)': 'Total Power 2024',\n",
    "    'Total Power (2)': 'Total Power 2022',\n",
    "    'Condenser Loop Wet Bulb Temp (1)': 'Condenser Loop Wet Bulb Temp 2024',\n",
    "    'Condenser Loop Wet Bulb Temp (2)': 'Condenser Loop Wet Bulb Temp 2022'\n",
    "}\n",
    "\n",
    "df = df.rename(columns=col_rename_map)\n",
    "df.columns"
   ]
  },
  {
   "cell_type": "markdown",
   "id": "f63d4239-0530-42ae-a7c0-182f8eea4e16",
   "metadata": {},
   "source": [
    "## Separate data and units of measure"
   ]
  },
  {
   "cell_type": "code",
   "execution_count": 10,
   "id": "c676f178-a157-4081-9519-04802975d225",
   "metadata": {},
   "outputs": [
    {
     "data": {
      "text/plain": [
       "Chiller 1 Efficiency 2024                   object\n",
       "Chiller 1 Efficiency 2022                   object\n",
       "Chiller 2 Efficiency 2024                   object\n",
       "Chiller 2 Efficiency 2022                   object\n",
       "Chiller 3 Efficiency 2024                   object\n",
       "Chiller 3 Efficiency 2022                   object\n",
       "Chilled Water Efficiency (C) 2024           object\n",
       "Chilled Water Efficiency (C) 2022           object\n",
       "Chilled Water Tons of Refrigeration 2024    object\n",
       "Chilled Water Tons of Refrigeration 2022    object\n",
       "Chiller Stage 2024                          object\n",
       "Chiller Stage 2022                          object\n",
       "Outside Air Temp 2024                       object\n",
       "Outside Air Temp 2022                       object\n",
       "Total Power 2024                            object\n",
       "Total Power 2022                            object\n",
       "Condenser Loop Wet Bulb Temp 2024           object\n",
       "Condenser Loop Wet Bulb Temp 2022           object\n",
       "dtype: object"
      ]
     },
     "execution_count": 10,
     "metadata": {},
     "output_type": "execute_result"
    }
   ],
   "source": [
    "df.dtypes"
   ]
  },
  {
   "cell_type": "code",
   "execution_count": 11,
   "id": "128ddb33-1533-40e2-8147-33fc433788ee",
   "metadata": {},
   "outputs": [
    {
     "name": "stdout",
     "output_type": "stream",
     "text": [
      "Converting column: Chiller 1 Efficiency 2024\n",
      "Converting column: Chiller 1 Efficiency 2022\n",
      "Converting column: Chiller 2 Efficiency 2024\n",
      "Converting column: Chiller 2 Efficiency 2022\n",
      "Converting column: Chiller 3 Efficiency 2024\n",
      "Converting column: Chiller 3 Efficiency 2022\n",
      "Converting column: Chilled Water Efficiency (C) 2024\n",
      "Converting column: Chilled Water Efficiency (C) 2022\n",
      "Converting column: Chilled Water Tons of Refrigeration 2024\n",
      "Converting column: Chilled Water Tons of Refrigeration 2022\n",
      "Converting column: Outside Air Temp 2024\n",
      "Converting column: Outside Air Temp 2022\n",
      "Converting column: Total Power 2024\n",
      "Converting column: Total Power 2022\n",
      "Converting column: Condenser Loop Wet Bulb Temp 2024\n",
      "Converting column: Condenser Loop Wet Bulb Temp 2022\n"
     ]
    },
    {
     "data": {
      "text/plain": [
       "Chiller 1 Efficiency 2024                   kW/ton\n",
       "Chiller 1 Efficiency 2022                   kW/ton\n",
       "Chiller 2 Efficiency 2024                   kW/ton\n",
       "Chiller 2 Efficiency 2022                   kW/ton\n",
       "Chiller 3 Efficiency 2024                   kW/ton\n",
       "Chiller 3 Efficiency 2022                   kW/ton\n",
       "Chilled Water Efficiency (C) 2024           kW/ton\n",
       "Chilled Water Efficiency (C) 2022           kW/ton\n",
       "Chilled Water Tons of Refrigeration 2024       ton\n",
       "Chilled Water Tons of Refrigeration 2022       ton\n",
       "Outside Air Temp 2024                           °F\n",
       "Outside Air Temp 2022                           °F\n",
       "Total Power 2024                                kW\n",
       "Total Power 2022                                kW\n",
       "Condenser Loop Wet Bulb Temp 2024               °F\n",
       "Condenser Loop Wet Bulb Temp 2022               °F\n",
       "dtype: object"
      ]
     },
     "execution_count": 11,
     "metadata": {},
     "output_type": "execute_result"
    }
   ],
   "source": [
    "units_rename_map = {'_kW/Ton': 'kW/ton', 'kW/ton': 'kW/ton', '_Ton': 'ton', '°F': '°F', 'kW':'kW'}\n",
    "\n",
    "for col in df:\n",
    "    if df[col].dtype == 'object':\n",
    "        not_nan_values = ~df[col].isna()\n",
    "        for units_str, renamed_units in units_rename_map.items():\n",
    "            matches = df[col].str.endswith(units_str)\n",
    "            if matches.any():\n",
    "                print(f\"Converting column: {col}\")\n",
    "                df.loc[not_nan_values & matches, col] = \\\n",
    "                    df.loc[not_nan_values & matches, col] \\\n",
    "                    .str.removesuffix(units_str)\n",
    "                df[col] = pd.to_numeric(df[col])\n",
    "                units[col] = renamed_units\n",
    "                break\n",
    "\n",
    "pd.Series(units)"
   ]
  },
  {
   "cell_type": "code",
   "execution_count": 12,
   "id": "49b66066-c11d-49ba-b8c7-28047983c46f",
   "metadata": {},
   "outputs": [
    {
     "data": {
      "text/plain": [
       "Chiller Stage 2024\n",
       "AAAB        3510\n",
       "AAAA        2155\n",
       "AAAC         238\n",
       "AAABAAAA     179\n",
       "AAAAAAAB     137\n",
       "AAAAAeAB      61\n",
       "AAAAAMAB      10\n",
       "AAABABAA      10\n",
       "AAAAAqAB       7\n",
       "AAABAUAA       6\n",
       "AAABADAA       6\n",
       "AAABAIAA       6\n",
       "AAAAALAB       6\n",
       "AAABAdAA       5\n",
       "AAAAAZAB       5\n",
       "AAAAARAB       5\n",
       "AAABAcAA       5\n",
       "AAAAATAB       5\n",
       "AAABAFAA       5\n",
       "AAABAEAA       5\n",
       "AAAAAcAB       5\n",
       "AAABALAA       4\n",
       "AAABAKAA       4\n",
       "AAABAVAA       4\n",
       "AAAAAFAB       4\n",
       "Name: count, dtype: int64"
      ]
     },
     "execution_count": 12,
     "metadata": {},
     "output_type": "execute_result"
    }
   ],
   "source": [
    "# These columns contain strange data\n",
    "df['Chiller Stage 2024'].value_counts().head(25)"
   ]
  },
  {
   "cell_type": "code",
   "execution_count": 13,
   "id": "90c3af48-039b-48e1-a750-206c37a657d9",
   "metadata": {},
   "outputs": [
    {
     "data": {
      "text/plain": [
       "Chiller Stage 2022\n",
       "AAAB        7999\n",
       "AAAC         468\n",
       "AAAA          39\n",
       "AAAD          26\n",
       "AAACAyAB       8\n",
       "AAACARAB       5\n",
       "AAACAEAB       5\n",
       "AAABAcAC       4\n",
       "AAABAoAC       4\n",
       "AAADAzAC       3\n",
       "AAACAXAB       3\n",
       "AAACAWAB       3\n",
       "AAABAPAC       3\n",
       "AAACADAB       3\n",
       "AAABA4AC       3\n",
       "AAABAfAC       3\n",
       "AAABADAC       3\n",
       "AAABA1AC       3\n",
       "AAACAzAB       3\n",
       "AAABAEAC       3\n",
       "AAABAOAC       3\n",
       "AAABARAC       3\n",
       "AAACAJAB       3\n",
       "AAABANAC       3\n",
       "AAACAOAB       2\n",
       "Name: count, dtype: int64"
      ]
     },
     "execution_count": 13,
     "metadata": {},
     "output_type": "execute_result"
    }
   ],
   "source": [
    "df['Chiller Stage 2022'].value_counts().head(25)"
   ]
  },
  {
   "cell_type": "code",
   "execution_count": 14,
   "id": "4b87853d-0b44-43f0-bedd-624fc7d6fe77",
   "metadata": {},
   "outputs": [
    {
     "name": "stdout",
     "output_type": "stream",
     "text": [
      "Chiller Stage 2024\n",
      "AAAB    3916\n",
      "AAAA    2504\n",
      "AAAC     293\n",
      "Name: count, dtype: int64\n",
      "Chiller Stage 2022\n",
      "AAAB    8111\n",
      "AAAC     565\n",
      "AAAA      48\n",
      "AAAD      35\n",
      "Name: count, dtype: int64\n"
     ]
    }
   ],
   "source": [
    "# Try clipping to first 4 chars:\n",
    "chiller_stage_cols = {\n",
    "    2024: 'Chiller Stage 2024', \n",
    "    2022: 'Chiller Stage 2022'\n",
    "}\n",
    "for year, col in chiller_stage_cols.items():\n",
    "    df[col] = df[col].str.slice(0, 4)\n",
    "    print(df[col].value_counts().head(5))"
   ]
  },
  {
   "cell_type": "code",
   "execution_count": 15,
   "id": "d8ac6d9b-d29f-43fd-b9b6-fe21ac5a2f1f",
   "metadata": {},
   "outputs": [],
   "source": [
    "stages_rename_map = {\n",
    "    \"AAAB\": 1, \n",
    "    \"AAAA\": 1,\n",
    "    \"AAAC\": 2, \n",
    "    \"AAAD\": 3\n",
    "}"
   ]
  },
  {
   "cell_type": "code",
   "execution_count": 16,
   "id": "1786f549-699d-45fc-8dca-1123a3503575",
   "metadata": {},
   "outputs": [
    {
     "name": "stdout",
     "output_type": "stream",
     "text": [
      "Chiller Stage 2024\n",
      "1.0    6420\n",
      "2.0     293\n",
      "Name: count, dtype: int64\n",
      "Chiller Stage 2022\n",
      "1.0    8159\n",
      "2.0     565\n",
      "3.0      35\n",
      "Name: count, dtype: int64\n"
     ]
    }
   ],
   "source": [
    "for col in chiller_stage_cols.values():\n",
    "    df[col] = df[col].map(stages_rename_map)\n",
    "    print(df[col].value_counts().head(5))"
   ]
  },
  {
   "cell_type": "markdown",
   "id": "eb156340-113b-4c5b-b098-559cde3c0512",
   "metadata": {},
   "source": [
    "## Save prepared data file for future analysis"
   ]
  },
  {
   "cell_type": "code",
   "execution_count": 21,
   "id": "987aca33-67f2-44cc-9d37-eaed6137fce4",
   "metadata": {},
   "outputs": [
    {
     "name": "stdout",
     "output_type": "stream",
     "text": [
      "Data saved to prepared-data-hourly.csv\n"
     ]
    }
   ],
   "source": [
    "filename = \"prepared-data-hourly.csv\"\n",
    "df.to_csv(os.path.join(data_dir, filename))\n",
    "print(f\"Data saved to {filename}\")"
   ]
  },
  {
   "cell_type": "code",
   "execution_count": 24,
   "id": "1c6e3075-5e04-4c71-9fc9-d460b42a8772",
   "metadata": {},
   "outputs": [
    {
     "name": "stdout",
     "output_type": "stream",
     "text": [
      "Meta data saved to units.yaml\n"
     ]
    }
   ],
   "source": [
    "filename = \"units.yaml\"\n",
    "with open(os.path.join(data_dir, filename), 'w') as f:\n",
    "    f.write(yaml.dump(units))\n",
    "print(f\"Meta data saved to {filename}\")"
   ]
  },
  {
   "cell_type": "code",
   "execution_count": null,
   "id": "0f34daec-c371-40de-9622-1cc9d2737ae5",
   "metadata": {},
   "outputs": [],
   "source": []
  },
  {
   "cell_type": "code",
   "execution_count": null,
   "id": "c5d06cb5-0646-454e-82ee-9272e1e1a2cb",
   "metadata": {},
   "outputs": [],
   "source": []
  },
  {
   "cell_type": "code",
   "execution_count": null,
   "id": "c635fbf2-3a41-4532-bb23-355f430a2fc6",
   "metadata": {},
   "outputs": [],
   "source": []
  }
 ],
 "metadata": {
  "kernelspec": {
   "display_name": "Python (torch)",
   "language": "python",
   "name": "torch"
  },
  "language_info": {
   "codemirror_mode": {
    "name": "ipython",
    "version": 3
   },
   "file_extension": ".py",
   "mimetype": "text/x-python",
   "name": "python",
   "nbconvert_exporter": "python",
   "pygments_lexer": "ipython3",
   "version": "3.10.13"
  }
 },
 "nbformat": 4,
 "nbformat_minor": 5
}
